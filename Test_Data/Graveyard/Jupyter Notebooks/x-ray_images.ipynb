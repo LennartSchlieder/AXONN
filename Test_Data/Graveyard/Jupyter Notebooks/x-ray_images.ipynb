{
 "cells": [
  {
   "cell_type": "code",
   "execution_count": 1,
   "metadata": {},
   "outputs": [],
   "source": [
    "def get_pathologies(filepath):\n",
    "    \"\"\"Imports colums of 1s and 0s into rows of a 2D numpy array\"\"\"\n",
    "    \n",
    "    import pandas as pd\n",
    "    \n",
    "    data = pd.read_csv(filepath)\n",
    "    data = data.values\n",
    "    \n",
    "    return data"
   ]
  },
  {
   "cell_type": "code",
   "execution_count": 2,
   "metadata": {},
   "outputs": [],
   "source": [
    "def import_grayscale_images(filetype, filepath):\n",
    "    \"\"\"Imports images of a certain 'filetype' located at 'filepath'.\n",
    "       The images are converted to grayscale and imported as numpy array.\n",
    "\n",
    "       INPUTS:\n",
    "       * filetype, type of images to be imported. String. e.g. 'png'\n",
    "       * filepath, path to folder containing all the images. String.\n",
    "\n",
    "       OUTPUTS:\n",
    "       * image_list, 3D numpy array containing of shape\n",
    "         (# of images, pixed height, pixel width), where each pixel is\n",
    "         represented by a 0-255 grayscale value normalized between 0 and 1.\n",
    "\n",
    "    \"\"\"\n",
    "\n",
    "    import numpy as np\n",
    "    import glob\n",
    "    from skimage import io\n",
    "\n",
    "    # creates the filepath\n",
    "    globpath = filepath + '/*.' + filetype\n",
    "\n",
    "    # initializes array that will contain all the images\n",
    "    image_list = []\n",
    "\n",
    "    # loops through all filenames in the folder matching the ending .filetype\n",
    "    for filename in sorted(glob.glob(globpath)):\n",
    "        # imports and converts grayscale image array to numpy array\n",
    "        im = np.asarray(io.imread(filename, as_grey=True))/255\n",
    "        image_list.append(im)\n",
    "\n",
    "    return image_list\n"
   ]
  },
  {
   "cell_type": "code",
   "execution_count": 3,
   "metadata": {},
   "outputs": [],
   "source": [
    "import numpy as np\n",
    "\n",
    "# INPUT:\n",
    "pathologies_filepath='Data_Entry_Binary_Only.csv'\n",
    "\n",
    "# --------------------------\n",
    "pathologies = get_pathologies(pathologies_filepath)\n",
    "\n"
   ]
  },
  {
   "cell_type": "code",
   "execution_count": 4,
   "metadata": {},
   "outputs": [],
   "source": [
    "# save a .npy file with the pathologies array\n",
    "\n",
    "np.save('pathologies', pathologies)"
   ]
  },
  {
   "cell_type": "code",
   "execution_count": null,
   "metadata": {},
   "outputs": [],
   "source": []
  },
  {
   "cell_type": "code",
   "execution_count": 4,
   "metadata": {},
   "outputs": [],
   "source": [
    "# INPUT\n",
    "image_type = 'png'\n",
    "image_folder = '100_images'\n",
    "\n",
    "# --------------------------\n",
    "\n",
    "images = import_grayscale_images(image_type,image_folder)"
   ]
  },
  {
   "cell_type": "code",
   "execution_count": null,
   "metadata": {},
   "outputs": [],
   "source": [
    "np.save('chestimages', images)"
   ]
  },
  {
   "cell_type": "code",
   "execution_count": 2,
   "metadata": {},
   "outputs": [
    {
     "ename": "NameError",
     "evalue": "name 'np' is not defined",
     "output_type": "error",
     "traceback": [
      "\u001b[0;31m---------------------------------------------------------------------------\u001b[0m",
      "\u001b[0;31mNameError\u001b[0m                                 Traceback (most recent call last)",
      "\u001b[0;32m<ipython-input-2-7e256b5da34f>\u001b[0m in \u001b[0;36m<module>\u001b[0;34m()\u001b[0m\n\u001b[0;32m----> 1\u001b[0;31m \u001b[0mprint\u001b[0m\u001b[0;34m(\u001b[0m\u001b[0mnp\u001b[0m\u001b[0;34m.\u001b[0m\u001b[0mshape\u001b[0m\u001b[0;34m(\u001b[0m\u001b[0mimages\u001b[0m\u001b[0;34m)\u001b[0m\u001b[0;34m)\u001b[0m\u001b[0;34m;\u001b[0m\u001b[0;34m\u001b[0m\u001b[0m\n\u001b[0m",
      "\u001b[0;31mNameError\u001b[0m: name 'np' is not defined"
     ]
    }
   ],
   "source": [
    "print(np.shape(images))"
   ]
  },
  {
   "cell_type": "code",
   "execution_count": null,
   "metadata": {},
   "outputs": [],
   "source": []
  }
 ],
 "metadata": {
  "kernelspec": {
   "display_name": "Python 3",
   "language": "python",
   "name": "python3"
  },
  "language_info": {
   "codemirror_mode": {
    "name": "ipython",
    "version": 3
   },
   "file_extension": ".py",
   "mimetype": "text/x-python",
   "name": "python",
   "nbconvert_exporter": "python",
   "pygments_lexer": "ipython3",
   "version": "3.6.4"
  }
 },
 "nbformat": 4,
 "nbformat_minor": 2
}
