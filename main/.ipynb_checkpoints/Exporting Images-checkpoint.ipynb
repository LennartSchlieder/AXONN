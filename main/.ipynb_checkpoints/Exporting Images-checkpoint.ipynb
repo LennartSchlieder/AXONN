{
 "cells": [
  {
   "cell_type": "markdown",
   "metadata": {},
   "source": [
    "# Exporting Images"
   ]
  },
  {
   "cell_type": "code",
   "execution_count": null,
   "metadata": {},
   "outputs": [],
   "source": [
    "# --------- IMPORTS -----------\n",
    "\n",
    "import numpy as np\n",
    "import tables\n",
    "\n",
    "# ----------  DEFS  -----------\n",
    "\n",
    "def image_name_list(filetype, filepath, withextension):\n",
    "    \"\"\"Given a filepath, exports a list with all the filenames\n",
    "       with extension means \"\"\"\n",
    "    import glob\n",
    "    \n",
    "    print(\"Creating Label Array\")\n",
    "    \n",
    "    globpath = filepath + '/*.' + filetype\n",
    "    \n",
    "    # exports names of images\n",
    "    labels = sorted(glob.glob(globpath))\n",
    "    if withextension:\n",
    "        for i, name in enumerate(labels):\n",
    "            labels[i] = labels[i][(len(filepath)+1):]\n",
    "    else:\n",
    "        for i, name in enumerate(labels):\n",
    "            labels[i] = labels[i][:-(len(filetype)+1)]\n",
    "            labels[i] = labels[i][(len(filepath)+1):]\n",
    "\n",
    "    return labels\n",
    "\n",
    "def export_grayscale_images_HDF5(filetype, filepath):\n",
    "    \"\"\"Imports images of a certain 'filetype' located at 'filepath'.\n",
    "       The images are converted to grayscale and imported as numpy array.\n",
    "\n",
    "       INPUTS:\n",
    "       * filetype, type of images to be imported. String. e.g. 'png'\n",
    "       * filepath, path to folder containing all the images. String.\n",
    "\n",
    "       OUTPUTS:\n",
    "       * image_list, 3D numpy array containing of shape\n",
    "         (# of images, pixed height, pixel width), where each pixel is\n",
    "         represented by a 0-255 grayscale value normalized between 0 and 1.\n",
    "\n",
    "    \"\"\"\n",
    "\n",
    "    import numpy as np\n",
    "    import glob\n",
    "    from skimage import io\n",
    "\n",
    "    print(\"Converting Images...\")\n",
    "    # creates the filepath\n",
    "    globpath = filepath + '/*.' + filetype\n",
    "    \n",
    "    # calculates total number of images\n",
    "    num_images = len(glob.glob(globpath))\n",
    "    \n",
    "    # loops through all filenames in the folder matching the ending .filetype\n",
    "    for i, location in enumerate(sorted(glob.glob(globpath))):\n",
    "        # print how many images are saved every 1000 images\n",
    "        if i % 10000 == 0 and i > 1:\n",
    "            print('Image data: {}/{}'.format(i, num_images))\n",
    "        # read an image and resize to (224, 224)\n",
    "        # cv2 load images as BGR, convert it to RGB\n",
    "        img = io.imread(location, as_grey=True)\n",
    "        # add any image pre-processing here\n",
    "        # save the image\n",
    "        image_storage.append(img[None])\n",
    "    \n",
    "    print('Done !')\n",
    "    \n",
    "def get_pathologies(filepath):\n",
    "    import pandas as pd\n",
    "    print(\"Importing Pathologies List\")\n",
    "    data = pd.read_csv(filepath)\n",
    "    data = data.values\n",
    "    for i in data:\n",
    "        pathology_storage.append(i[None])"
   ]
  },
  {
   "cell_type": "code",
   "execution_count": null,
   "metadata": {},
   "outputs": [],
   "source": [
    "# ---------- INPUTS -----------\n",
    "\n",
    "filetype = 'png'                                     # image filetype\n",
    "filepath = 'ALL_IMAGES'                              # filepath to folder with the images\n",
    "hdf5_path = \"quantum_data.hdf5\"                      # name of hdf5 file to create\n",
    "height, width = 1024, 1024                           # image dimensions\n",
    "img_dtype = tables.UInt8Atom()                       # dtype of image, this is grayscale 255\n",
    "num_pathologies = 15                                 # number of pathologies (including None)\n",
    "pathologies_path = './pathologies_binary.csv'        # path to pathologies CSV"
   ]
  },
  {
   "cell_type": "code",
   "execution_count": null,
   "metadata": {},
   "outputs": [],
   "source": [
    "# ----------  MAIN  -----------\n",
    "# (just run this)\n",
    "\n",
    "# load image labels\n",
    "labels = image_name_list(filetype, filepath, True)\n",
    "\n",
    "# create file\n",
    "img_dtype = tables.UInt8Atom()\n",
    "quantum_data = tables.open_file(hdf5_path, mode='w')\n",
    "image_storage = quantum_data.create_earray(quantum_data.root, 'images', \\\n",
    "                                        img_dtype, shape =(0,height, width))\n",
    "label_names = quantum_data.create_array(quantum_data.root, 'image_labels', labels)\n",
    "pathology_storage = quantum_data.create_earray(quantum_data.root, 'pathologies', \\\n",
    "                                        img_dtype, shape =(0,num_pathologies))\n",
    "\n",
    "# fill HDF5 with pathologies\n",
    "get_pathologies(pathologies_path)\n",
    "\n",
    "# fill HDF5 file with images\n",
    "export_grayscale_images_HDF5(filetype, filepath)"
   ]
  },
  {
   "cell_type": "code",
   "execution_count": null,
   "metadata": {},
   "outputs": [],
   "source": [
    "quantum_data.close()"
   ]
  }
 ],
 "metadata": {
  "kernelspec": {
   "display_name": "Python 3",
   "language": "python",
   "name": "python3"
  },
  "language_info": {
   "codemirror_mode": {
    "name": "ipython",
    "version": 3
   },
   "file_extension": ".py",
   "mimetype": "text/x-python",
   "name": "python",
   "nbconvert_exporter": "python",
   "pygments_lexer": "ipython3",
   "version": "3.6.4"
  }
 },
 "nbformat": 4,
 "nbformat_minor": 2
}
